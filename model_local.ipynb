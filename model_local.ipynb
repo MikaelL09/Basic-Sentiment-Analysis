{
  "cells": [
    {
      "cell_type": "code",
      "execution_count": 2,
      "metadata": {
        "colab": {
          "base_uri": "https://localhost:8080/"
        },
        "id": "NTQ5RgEDYoT9",
        "outputId": "20d17b1e-b642-46a8-eec1-0b4449a96706"
      },
      "outputs": [
        {
          "name": "stderr",
          "output_type": "stream",
          "text": [
            "c:\\MySoftware\\Anaconda\\envs\\FYP\\lib\\site-packages\\tqdm\\auto.py:21: TqdmWarning: IProgress not found. Please update jupyter and ipywidgets. See https://ipywidgets.readthedocs.io/en/stable/user_install.html\n",
            "  from .autonotebook import tqdm as notebook_tqdm\n",
            "c:\\MySoftware\\Anaconda\\envs\\FYP\\lib\\site-packages\\huggingface_hub\\utils\\_runtime.py:184: UserWarning: Pydantic is installed but cannot be imported. Please check your installation. `huggingface_hub` will default to not using Pydantic. Error message: '{e}'\n",
            "  warnings.warn(\n",
            "[nltk_data] Downloading package wordnet to C:\\Users\\ASUS TUF\n",
            "[nltk_data]     X506H\\AppData\\Roaming\\nltk_data...\n",
            "[nltk_data]   Package wordnet is already up-to-date!\n",
            "[nltk_data] Downloading package punkt to C:\\Users\\ASUS TUF\n",
            "[nltk_data]     X506H\\AppData\\Roaming\\nltk_data...\n",
            "[nltk_data]   Package punkt is already up-to-date!\n",
            "[nltk_data] Downloading package stopwords to C:\\Users\\ASUS TUF\n",
            "[nltk_data]     X506H\\AppData\\Roaming\\nltk_data...\n",
            "[nltk_data]   Package stopwords is already up-to-date!\n",
            "[nltk_data] Downloading package sentiwordnet to C:\\Users\\ASUS TUF\n",
            "[nltk_data]     X506H\\AppData\\Roaming\\nltk_data...\n",
            "[nltk_data]   Package sentiwordnet is already up-to-date!\n"
          ]
        },
        {
          "data": {
            "text/plain": [
              "True"
            ]
          },
          "execution_count": 2,
          "metadata": {},
          "output_type": "execute_result"
        }
      ],
      "source": [
        "import pandas as pd\n",
        "import matplotlib.pyplot as plt\n",
        "import torch\n",
        "import re\n",
        "import nltk\n",
        "import seaborn as sns\n",
        "import numpy as np\n",
        "from nltk.corpus import stopwords\n",
        "from sklearn.model_selection import train_test_split\n",
        "from sklearn.metrics import accuracy_score, precision_score, recall_score, f1_score, confusion_matrix, classification_report\n",
        "from sklearn.model_selection import ParameterGrid\n",
        "from transformers import DistilBertTokenizer, DistilBertForSequenceClassification, Trainer, TrainingArguments\n",
        "\n",
        "nltk.download('wordnet')\n",
        "nltk.download('punkt')\n",
        "nltk.download('stopwords')\n",
        "nltk.download('sentiwordnet')\n"
      ]
    },
    {
      "cell_type": "markdown",
      "metadata": {
        "id": "unLp_OLIaKe0"
      },
      "source": [
        "LOADING DATASET"
      ]
    },
    {
      "cell_type": "code",
      "execution_count": 3,
      "metadata": {
        "colab": {
          "base_uri": "https://localhost:8080/",
          "height": 966
        },
        "id": "76BGYdB7aIkQ",
        "outputId": "c75a5d9c-cf62-401a-b882-e6e71a0ad6c0"
      },
      "outputs": [
        {
          "data": {
            "image/png": "[encoded data removed]",
            "text/plain": [
              "<Figure size 640x480 with 1 Axes>"
            ]
          },
          "metadata": {},
          "output_type": "display_data"
        }
      ],
      "source": [
        "# Load the dataset\n",
        "UnC_Data = pd.read_csv('./Sentiment_Dataset/Text/4/dataset.csv', low_memory=False)\n",
        "\n",
        "# Filter only English tweets\n",
        "UnC_Data = UnC_Data.query('Language == \"en\"')\n",
        "\n",
        "# Convert all columns to string type\n",
        "UnC_Data = UnC_Data.astype(str)\n",
        "\n",
        "# Drop all rows with any NaN and NaT values\n",
        "UnC_Data = UnC_Data.dropna()\n",
        "\n",
        "# Only keep the text and label columns\n",
        "UnC_Data = UnC_Data[['Text', 'Label']]\n",
        "\n",
        "# Rename the \"Label\" column as \"sentiment labels\"\n",
        "UnC_Data = UnC_Data.rename(columns={'Label': 'Sentiment_Labels'})\n",
        "\n",
        "# Balancing the dataset\n",
        "balanced_data = pd.DataFrame()\n",
        "\n",
        "# Sample 2000 records for each label\n",
        "for label in UnC_Data['Sentiment_Labels'].unique():\n",
        "    label_data = UnC_Data[UnC_Data['Sentiment_Labels'] == label].sample(2000, replace=True)\n",
        "    balanced_data = pd.concat([balanced_data, label_data])\n",
        "\n",
        "# Visualize the distribution of the labels after balancing - Bar Chart\n",
        "balanced_data.groupby(['Sentiment_Labels']).size().plot.bar()\n",
        "plt.title('Distribution of Sentiment Labels After Balancing')\n",
        "plt.show()\n"
      ]
    },
    {
      "cell_type": "markdown",
      "metadata": {
        "id": "1hma6jjSdCI_"
      },
      "source": [
        "DATA PREPROCESSING"
      ]
    },
    {
      "cell_type": "code",
      "execution_count": 4,
      "metadata": {
        "id": "Hc4elVFedBUE"
      },
      "outputs": [],
      "source": [
        "# Pre-compiling regular expressions\n",
        "emoji_pattern = re.compile(\"[\"\n",
        "                          u\"\\U0001F600-\\U0001F64F\"\n",
        "                          u\"\\U0001F300-\\U0001F5FF\"\n",
        "                          u\"\\U0001F680-\\U0001F6FF\"\n",
        "                          u\"\\U0001F1E0-\\U0001F1FF\"\n",
        "                          u\"\\U00002702-\\U000027B0\"\n",
        "                          u\"\\U000024C2-\\U0001F251\"\n",
        "                          \"]+\", flags=re.UNICODE)\n",
        "\n",
        "stop_words = set(stopwords.words('english'))\n",
        "lemmatizer = nltk.WordNetLemmatizer()\n",
        "\n",
        "def clean_and_preprocess(tweet):\n",
        "    if not isinstance(tweet, str):\n",
        "        return \"\"\n",
        "\n",
        "    # Combine regular expressions\n",
        "    temp = re.sub(r'http\\S+|@\\S+|#|\\[.*?\\]|[()!?]', ' ', tweet.lower())\n",
        "    temp = re.sub(\"[^a-z0-9\\s]\", \" \", temp)\n",
        "\n",
        "    # Tokenization and Lemmatization (NLTK library) using list comprehension\n",
        "    words = [lemmatizer.lemmatize(word) for word in re.findall(r'\\b\\w+\\b', temp) if word not in stop_words]\n",
        "\n",
        "    # Join the list of words back into a sentence\n",
        "    processed_sentence = \" \".join(words)\n",
        "\n",
        "    return processed_sentence\n",
        "\n",
        "# Apply the clean_and_preprocess function to the \"Text\" column\n",
        "C_Data = balanced_data.copy()\n",
        "C_Data['Text'] = C_Data['Text'].apply(clean_and_preprocess)"
      ]
    },
    {
      "cell_type": "code",
      "execution_count": 5,
      "metadata": {
        "colab": {
          "base_uri": "https://localhost:8080/",
          "height": 206
        },
        "id": "cQfVs0YwdNV9",
        "outputId": "7c28aa76-e1b9-4014-9bc4-a06bd34b7ce8"
      },
      "outputs": [
        {
          "data": {
            "text/html": [
              "<div>\n",
              "<style scoped>\n",
              "    .dataframe tbody tr th:only-of-type {\n",
              "        vertical-align: middle;\n",
              "    }\n",
              "\n",
              "    .dataframe tbody tr th {\n",
              "        vertical-align: top;\n",
              "    }\n",
              "\n",
              "    .dataframe thead th {\n",
              "        text-align: right;\n",
              "    }\n",
              "</style>\n",
              "<table border=\"1\" class=\"dataframe\">\n",
              "  <thead>\n",
              "    <tr style=\"text-align: right;\">\n",
              "      <th></th>\n",
              "      <th>Text</th>\n",
              "      <th>Sentiment_Labels</th>\n",
              "    </tr>\n",
              "  </thead>\n",
              "  <tbody>\n",
              "    <tr>\n",
              "      <th>463314</th>\n",
              "      <td>kraken shiprekt long position 70 9921 bch wort...</td>\n",
              "      <td>litigious</td>\n",
              "    </tr>\n",
              "    <tr>\n",
              "      <th>245883</th>\n",
              "      <td>um witness tampering</td>\n",
              "      <td>litigious</td>\n",
              "    </tr>\n",
              "    <tr>\n",
              "      <th>915687</th>\n",
              "      <td>thats mother daughter law</td>\n",
              "      <td>litigious</td>\n",
              "    </tr>\n",
              "    <tr>\n",
              "      <th>872470</th>\n",
              "      <td>yup discussion outcome different light 20th ce...</td>\n",
              "      <td>litigious</td>\n",
              "    </tr>\n",
              "    <tr>\n",
              "      <th>748859</th>\n",
              "      <td>love optimistic need rule law exerted right ga...</td>\n",
              "      <td>litigious</td>\n",
              "    </tr>\n",
              "  </tbody>\n",
              "</table>\n",
              "</div>"
            ],
            "text/plain": [
              "                                                     Text Sentiment_Labels\n",
              "463314  kraken shiprekt long position 70 9921 bch wort...        litigious\n",
              "245883                               um witness tampering        litigious\n",
              "915687                          thats mother daughter law        litigious\n",
              "872470  yup discussion outcome different light 20th ce...        litigious\n",
              "748859  love optimistic need rule law exerted right ga...        litigious"
            ]
          },
          "execution_count": 5,
          "metadata": {},
          "output_type": "execute_result"
        }
      ],
      "source": [
        "C_Data.head(5)"
      ]
    },
    {
      "cell_type": "code",
      "execution_count": 6,
      "metadata": {
        "colab": {
          "base_uri": "https://localhost:8080/",
          "height": 241
        },
        "id": "Rl7GPaAtdWzU",
        "outputId": "cae0f770-de46-47b9-a2da-0301acb001d4"
      },
      "outputs": [
        {
          "data": {
            "text/html": [
              "<div>\n",
              "<style scoped>\n",
              "    .dataframe tbody tr th:only-of-type {\n",
              "        vertical-align: middle;\n",
              "    }\n",
              "\n",
              "    .dataframe tbody tr th {\n",
              "        vertical-align: top;\n",
              "    }\n",
              "\n",
              "    .dataframe thead th {\n",
              "        text-align: right;\n",
              "    }\n",
              "</style>\n",
              "<table border=\"1\" class=\"dataframe\">\n",
              "  <thead>\n",
              "    <tr style=\"text-align: right;\">\n",
              "      <th></th>\n",
              "      <th>Text</th>\n",
              "      <th>Sentiment_Labels</th>\n",
              "      <th>Numerical_Labels</th>\n",
              "    </tr>\n",
              "  </thead>\n",
              "  <tbody>\n",
              "    <tr>\n",
              "      <th>463314</th>\n",
              "      <td>kraken shiprekt long position 70 9921 bch worth 7 500 0 perpetual bchusd future contract 102 9 loss trade 1 8942 bch 194 91 71 2 maintenance margin 1 4507 bch retained trader 2022 06 28 22 33 25 utc</td>\n",
              "      <td>litigious</td>\n",
              "      <td>3</td>\n",
              "    </tr>\n",
              "    <tr>\n",
              "      <th>245883</th>\n",
              "      <td>um witness tampering</td>\n",
              "      <td>litigious</td>\n",
              "      <td>3</td>\n",
              "    </tr>\n",
              "    <tr>\n",
              "      <th>915687</th>\n",
              "      <td>thats mother daughter law</td>\n",
              "      <td>litigious</td>\n",
              "      <td>3</td>\n",
              "    </tr>\n",
              "    <tr>\n",
              "      <th>872470</th>\n",
              "      <td>yup discussion outcome different light 20th century research settlement logistics</td>\n",
              "      <td>litigious</td>\n",
              "      <td>3</td>\n",
              "    </tr>\n",
              "    <tr>\n",
              "      <th>748859</th>\n",
              "      <td>love optimistic need rule law exerted right garland want get biden harris schumer getting senator line pelosi starting impeachment proceeding scotus perjurors</td>\n",
              "      <td>litigious</td>\n",
              "      <td>3</td>\n",
              "    </tr>\n",
              "  </tbody>\n",
              "</table>\n",
              "</div>"
            ],
            "text/plain": [
              "                                                                                                                                                                                                          Text  \\\n",
              "463314  kraken shiprekt long position 70 9921 bch worth 7 500 0 perpetual bchusd future contract 102 9 loss trade 1 8942 bch 194 91 71 2 maintenance margin 1 4507 bch retained trader 2022 06 28 22 33 25 utc   \n",
              "245883                                                                                                                                                                                    um witness tampering   \n",
              "915687                                                                                                                                                                               thats mother daughter law   \n",
              "872470                                                                                                                       yup discussion outcome different light 20th century research settlement logistics   \n",
              "748859                                          love optimistic need rule law exerted right garland want get biden harris schumer getting senator line pelosi starting impeachment proceeding scotus perjurors   \n",
              "\n",
              "       Sentiment_Labels  Numerical_Labels  \n",
              "463314        litigious                 3  \n",
              "245883        litigious                 3  \n",
              "915687        litigious                 3  \n",
              "872470        litigious                 3  \n",
              "748859        litigious                 3  "
            ]
          },
          "execution_count": 6,
          "metadata": {},
          "output_type": "execute_result"
        }
      ],
      "source": [
        "# Map the labels to numerical values\n",
        "label_mapping = {'positive': 0, 'negative': 1, 'uncertainty': 2, 'litigious': 3}\n",
        "\n",
        "# Add a new column \"Numerical_Labels\" to the dataset\n",
        "C_Data['Numerical_Labels'] = C_Data['Sentiment_Labels'].map(label_mapping)\n",
        "\n",
        "# Alternatively, if you want to keep both columns, you can use the following:\n",
        "C_Data['Numerical_Labels'] = C_Data['Sentiment_Labels'].map(label_mapping).astype('int')\n",
        "\n",
        "# Set the maximum column width to a larger value\n",
        "pd.set_option('display.max_colwidth', 1000)\n",
        "C_Data.head(5)"
      ]
    },
    {
      "cell_type": "code",
      "execution_count": 7,
      "metadata": {
        "colab": {
          "base_uri": "https://localhost:8080/"
        },
        "id": "lEPEJ4_Ud1fH",
        "outputId": "83ec22d6-f79a-4911-e8cc-16a600c65b30"
      },
      "outputs": [
        {
          "name": "stdout",
          "output_type": "stream",
          "text": [
            "{0: 'litigious', 1: 'positive', 2: 'negative', 3: 'uncertainty'}\n",
            "{'litigious': 0, 'positive': 1, 'negative': 2, 'uncertainty': 3}\n"
          ]
        }
      ],
      "source": [
        "# Adding the labels to a list to map ID to label and label to ID\n",
        "labels = C_Data['Sentiment_Labels'].unique().tolist()\n",
        "labels = [s.strip() for s in labels ]\n",
        "\n",
        "label_count = len(labels)\n",
        "\n",
        "id2label = {id: label for id, label in enumerate(labels)}\n",
        "label2id = {label: id for id, label in enumerate(labels)}\n",
        "\n",
        "# Print the ID to label and label to ID mappings\n",
        "print(id2label)\n",
        "print(label2id)"
      ]
    },
    {
      "cell_type": "markdown",
      "metadata": {
        "id": "mwricHwheCzp"
      },
      "source": [
        "DATA SPLITTING"
      ]
    },
    {
      "cell_type": "code",
      "execution_count": 8,
      "metadata": {
        "colab": {
          "base_uri": "https://localhost:8080/"
        },
        "id": "C9KZN2hXeCFt",
        "outputId": "d6eac597-49bc-4620-bd00-75681956def8"
      },
      "outputs": [
        {
          "name": "stdout",
          "output_type": "stream",
          "text": [
            "Train data count: 6400\n",
            "Test data count: 800\n",
            "Validation data count: 800\n"
          ]
        }
      ],
      "source": [
        "# Split the dataset into train, test, and validation sets (8:1:1)\n",
        "train_data, test_data = train_test_split(C_Data, test_size=0.2, random_state=42)\n",
        "test_data, val_data = train_test_split(test_data, test_size=0.5, random_state=42)\n",
        "\n",
        "# Save the train, test, and validation datasets to CSV files\n",
        "train_data.to_csv(\"train_data.csv\", index=False)\n",
        "test_data.to_csv(\"test_data.csv\", index=False)\n",
        "val_data.to_csv(\"val_data.csv\", index=False)\n",
        "\n",
        "# Splitting the train, test, and validation datasets into text and label columns\n",
        "SIZE= C_Data.shape[0]\n",
        "\n",
        "train_texts = list(train_data['Text'])\n",
        "val_texts = list(val_data['Text'])\n",
        "test_texts = list(test_data['Text'])\n",
        "\n",
        "# Extracting label columns\n",
        "train_labels = list(train_data['Numerical_Labels'])\n",
        "val_labels = list(val_data['Numerical_Labels'])\n",
        "test_labels = list(test_data['Numerical_Labels'])\n",
        "\n",
        "# Check the count of each dataset\n",
        "print(\"Train data count:\", train_data.shape[0])\n",
        "print(\"Test data count:\", test_data.shape[0])\n",
        "print(\"Validation data count:\", val_data.shape[0])"
      ]
    },
    {
      "cell_type": "code",
      "execution_count": 9,
      "metadata": {
        "colab": {
          "base_uri": "https://localhost:8080/"
        },
        "id": "t5tL-hQreZf0",
        "outputId": "7b262430-aa1c-4268-d84c-010322f138d1"
      },
      "outputs": [
        {
          "name": "stdout",
          "output_type": "stream",
          "text": [
            "\n",
            "Sample Test Data:\n",
            "Text: cisa hacker still using log4shell breach network patch system\n",
            "Label: 3\n",
            "\n",
            "Text: nanight lufflies sweet dream xx\n",
            "Label: 0\n",
            "\n",
            "Text: hopefully getting legal doc sorted soon adopt\n",
            "Label: 3\n",
            "\n",
            "Text: take risk lose chance\n",
            "Label: 2\n",
            "\n",
            "Text: answer question typical bronsexual rest case\n",
            "Label: 1\n",
            "\n",
            "Unique Labels in Test Data: {0, 1, 2, 3}\n"
          ]
        }
      ],
      "source": [
        "# Visualize a few samples from test_texts and corresponding test_labels\n",
        "print(\"\\nSample Test Data:\")\n",
        "for text, label in zip(test_texts[:5], test_labels[:5]):\n",
        "    print(f\"Text: {text}\\nLabel: {label}\\n\")\n",
        "\n",
        "# Check the count of unique labels in the test set\n",
        "unique_labels_test = set(test_labels)\n",
        "print(\"Unique Labels in Test Data:\", unique_labels_test)"
      ]
    },
    {
      "cell_type": "code",
      "execution_count": 10,
      "metadata": {},
      "outputs": [
        {
          "name": "stderr",
          "output_type": "stream",
          "text": [
            "Some weights of DistilBertForSequenceClassification were not initialized from the model checkpoint at distilbert-base-uncased-finetuned-sst-2-english and are newly initialized because the shapes did not match:\n",
            "- classifier.bias: found shape torch.Size([2]) in the checkpoint and torch.Size([4]) in the model instantiated\n",
            "- classifier.weight: found shape torch.Size([2, 768]) in the checkpoint and torch.Size([4, 768]) in the model instantiated\n",
            "You should probably TRAIN this model on a down-stream task to be able to use it for predictions and inference.\n"
          ]
        }
      ],
      "source": [
        "# Setting DistilBERT tokenizer as 'tokenizer'\n",
        "tokenizer = DistilBertTokenizer.from_pretrained(\"distilbert-base-uncased-finetuned-sst-2-english\", max_length=128)\n",
        "\n",
        "# Set model to DistilBERTForSequenceClassification\n",
        "model = DistilBertForSequenceClassification.from_pretrained(\"distilbert-base-uncased-finetuned-sst-2-english\", \n",
        "                                                            max_length=128, \n",
        "                                                            num_labels=label_count, \n",
        "                                                            id2label=id2label, \n",
        "                                                            label2id=label2id, \n",
        "                                                            ignore_mismatched_sizes=True)"
      ]
    },
    {
      "cell_type": "code",
      "execution_count": 11,
      "metadata": {
        "id": "56IJL2T5emMM"
      },
      "outputs": [],
      "source": [
        "max_length = 128\n",
        "\n",
        "train_encodings = tokenizer(train_texts, truncation=True, padding=True, max_length=max_length, return_tensors='pt')\n",
        "val_encodings = tokenizer(val_texts, truncation=True, padding=True, max_length=max_length, return_tensors='pt')\n",
        "test_encodings = tokenizer(test_texts, truncation=True, padding=True, max_length=max_length, return_tensors='pt')\n"
      ]
    },
    {
      "cell_type": "code",
      "execution_count": null,
      "metadata": {},
      "outputs": [],
      "source": [
        "class DataLoader(torch.utils.data.Dataset):\n",
        "\n",
        "    def __init__(self, encodings, labels):\n",
        "\n",
        "        self.encodings = encodings\n",
        "        self.labels = labels\n",
        "\n",
        "    def __getitem__(self, idx):\n",
        "\n",
        "        # Retrieve tokenized data for the given index\n",
        "        item = {key: torch.tensor(val[idx]) for key, val in self.encodings.items()}\n",
        "        # Add the label for the given index to the item dictionary\n",
        "        item['labels'] = torch.tensor(self.labels[idx])\n",
        "        return item\n",
        "\n",
        "    def __len__(self):\n",
        "\n",
        "        return len(self.labels)\n",
        "    \n",
        "train_dataloader = DataLoader(train_encodings, train_labels)\n",
        "val_dataloader = DataLoader(val_encodings, val_labels)\n",
        "test_dataset = DataLoader(test_encodings, test_labels)\n",
        "\n",
        "# Define the hyperparameter grid for tuning\n",
        "hyperparameter_grid = {\n",
        "    'learning_rate': [2e-5, 1e-5],\n",
        "    'num_train_epochs': [3, 4],\n",
        "    'per_device_train_batch_size': [16, 32]\n",
        "}\n",
        "\n",
        "# Define the search space using ParameterGrid\n",
        "param_grid = list(ParameterGrid(hyperparameter_grid))\n",
        "\n",
        "\n",
        "# Define training arguments and other configurations\n",
        "training_args = TrainingArguments(\n",
        "    output_dir=\"./output\",\n",
        "    evaluation_strategy=\"steps\",\n",
        "    eval_steps=500,  \n",
        "    save_steps=500,  \n",
        "    logging_steps=240,  \n",
        ")\n",
        "\n",
        "# Hyperparameter tuning loop\n",
        "for params in param_grid:\n",
        "    print(f\"Training with hyperparameters: {params}\")\n",
        "\n",
        "    # Update training arguments with hyperparameters\n",
        "    training_args.learning_rate = params['learning_rate']\n",
        "    training_args.num_train_epochs = params['num_train_epochs']\n",
        "    training_args.per_device_train_batch_size = params['per_device_train_batch_size']\n",
        "\n",
        "    # Create a Trainer instance with the updated TrainingArguments\n",
        "    trainer = Trainer(\n",
        "        model=model,\n",
        "        args=training_args,\n",
        "        tokenizer=tokenizer,\n",
        "        train_dataset=train_dataloader,\n",
        "        eval_dataset=val_dataloader\n",
        "    )\n",
        "\n",
        "    # Train the model\n",
        "    trainer.train()\n",
        "\n",
        "    # Evaluate the model on the validation set or using cross-validation\n",
        "    results = trainer.evaluate()\n",
        "\n",
        "    # Log or store the results for later analysis\n",
        "    print(f\"Results: {results}\")\n",
        "\n"
      ]
    },
    {
      "cell_type": "code",
      "execution_count": 12,
      "metadata": {},
      "outputs": [],
      "source": [
        "model_path = 'initial_base_model_v2'\n",
        "#trainer.save_model(model_path)\n",
        "#tokenizer.save_pretrained(model_path)"
      ]
    },
    {
      "cell_type": "code",
      "execution_count": 13,
      "metadata": {
        "id": "G9DIlajhJyLJ"
      },
      "outputs": [
        {
          "name": "stdout",
          "output_type": "stream",
          "text": [
            "Accuracy: 0.95125\n",
            "Precision: 0.9532558312154507\n",
            "Recall: 0.95125\n",
            "F1-score: 0.9515594504547354\n"
          ]
        }
      ],
      "source": [
        "# Load test dataset (skip the header)\n",
        "with open(\"val_data.csv\", \"r\") as f:\n",
        "    # Skip the header if present\n",
        "    next(f)\n",
        "    \n",
        "    # Read the rest of the lines\n",
        "    texts = [line.strip() for line in f]\n",
        "\n",
        "# Load corresponding labels\n",
        "labels = [label for label in labels]  # Update this line based on how you load labels\n",
        "\n",
        "# Instantiate tokenizer and DistilBERT model\n",
        "tokenizer = DistilBertTokenizer.from_pretrained(model_path)\n",
        "model = DistilBertForSequenceClassification.from_pretrained(model_path)\n",
        "model.eval()  # Put the model in evaluation mode\n",
        "\n",
        "# Preprocess the data\n",
        "tokenized_inputs = tokenizer(texts, return_tensors=\"pt\", padding=True)\n",
        "\n",
        "# Generate predictions\n",
        "with torch.no_grad():  # Avoid computing gradients during inference\n",
        "    outputs = model(**tokenized_inputs)\n",
        "predictions = torch.argmax(outputs.logits, dim=1).tolist()\n",
        "\n",
        "# Calculate metrics\n",
        "accuracy = accuracy_score(val_labels, predictions)\n",
        "precision = precision_score(val_labels, predictions, average=\"weighted\")\n",
        "recall = recall_score(val_labels, predictions, average=\"weighted\")\n",
        "f1 = f1_score(val_labels, predictions, average=\"weighted\")\n",
        "\n",
        "# Free up memory by deleting variables that are no longer needed\n",
        "del tokenized_inputs, outputs\n",
        "\n",
        "# Print results\n",
        "print(\"Accuracy:\", accuracy)\n",
        "print(\"Precision:\", precision)\n",
        "print(\"Recall:\", recall)\n",
        "print(\"F1-score:\", f1)\n"
      ]
    },
    {
      "cell_type": "code",
      "execution_count": 16,
      "metadata": {},
      "outputs": [
        {
          "name": "stdout",
          "output_type": "stream",
          "text": [
            "Predicted Sentiment Class: Positive\n",
            "Predicted Probabilities: [[1.0, 4.3650295822317275e-08, 8.66688054657061e-09, 2.682565725109498e-09]]\n"
          ]
        }
      ],
      "source": [
        "# Define the label-to-id mapping used during training\n",
        "label2id = {'Positive': 0, 'Negative': 1, 'Uncertainty': 2, 'Litigious': 3}\n",
        "\n",
        "# Create a reverse mapping (id-to-label) for converting numerical labels to string labels\n",
        "id_to_label = {v: k for k, v in label2id.items()}\n",
        "\n",
        "# Input sentence\n",
        "input_sentence = \"im so excited to be here!\"\n",
        "\n",
        "# Tokenize the input\n",
        "tokenized_input = tokenizer(input_sentence, return_tensors=\"pt\")\n",
        "\n",
        "# Generate predictions\n",
        "with torch.no_grad():  # Avoid computing gradients during inference\n",
        "    outputs = model(**tokenized_input)\n",
        "#predictions = torch.argmax(outputs.logits, dim=1).tolist()\n",
        "\n",
        "# Obtain predicted probabilities\n",
        "predicted_probabilities = torch.nn.functional.softmax(outputs.logits, dim=1)\n",
        "\n",
        "# Get the predicted class (numerical label)\n",
        "predicted_class = torch.argmax(predicted_probabilities, dim=1).item()\n",
        "\n",
        "# Convert numerical label to string label using the reverse mapping\n",
        "predicted_sentiment = id_to_label.get(predicted_class, \"Unknown\")\n",
        "\n",
        "# Print results\n",
        "print(\"Predicted Sentiment Class:\", predicted_sentiment)\n",
        "print(\"Predicted Probabilities:\", predicted_probabilities.tolist())\n"
      ]
    },
    {
      "cell_type": "code",
      "execution_count": 14,
      "metadata": {},
      "outputs": [
        {
          "name": "stdout",
          "output_type": "stream",
          "text": [
            "Shape of test_labels: (800,)\n",
            "Shape of val_labels: (800,)\n",
            "Shape of predictions: (800,)\n"
          ]
        }
      ],
      "source": [
        "# Convert the lists to numpy arrays\n",
        "test_labels = np.array(test_labels)\n",
        "val_labels = np.array(val_labels)\n",
        "predictions = np.array(predictions)\n",
        "\n",
        "# Print the shape of test_labels and predictions\n",
        "print(\"Shape of test_labels:\", test_labels.shape)\n",
        "print(\"Shape of val_labels:\", val_labels.shape)\n",
        "print(\"Shape of predictions:\", predictions.shape)\n"
      ]
    },
    {
      "cell_type": "code",
      "execution_count": 17,
      "metadata": {},
      "outputs": [
        {
          "data": {
            "image/png": "[encoded data removed]",
            "text/plain": [
              "<Figure size 800x600 with 2 Axes>"
            ]
          },
          "metadata": {},
          "output_type": "display_data"
        },
        {
          "name": "stdout",
          "output_type": "stream",
          "text": [
            "Classification Report:\n",
            "              precision    recall  f1-score   support\n",
            "\n",
            "     Class 0       1.00      0.96      0.98       200\n",
            "     Class 1       0.96      0.97      0.96       192\n",
            "     Class 2       0.96      0.99      0.97       206\n",
            "     Class 3       0.98      0.97      0.97       202\n",
            "\n",
            "    accuracy                           0.97       800\n",
            "   macro avg       0.97      0.97      0.97       800\n",
            "weighted avg       0.97      0.97      0.97       800\n",
            "\n"
          ]
        }
      ],
      "source": [
        "# Load test dataset (skip the header)\n",
        "with open(\"test_data.csv\", \"r\") as f:\n",
        "    # Skip the header if present\n",
        "    next(f)\n",
        "    \n",
        "    # Read the rest of the lines\n",
        "    texts = [line.strip() for line in f]\n",
        "\n",
        "# Instantiate tokenizer and DistilBERT model\n",
        "tokenizer = DistilBertTokenizer.from_pretrained(model_path)\n",
        "model = DistilBertForSequenceClassification.from_pretrained(model_path)\n",
        "model.eval()\n",
        "\n",
        "# Preprocess the data\n",
        "tokenized_inputs = tokenizer(texts, return_tensors=\"pt\", padding=True)\n",
        "\n",
        "# Generate predictions\n",
        "with torch.no_grad():  \n",
        "    outputs = model(**tokenized_inputs)\n",
        "predictions = torch.argmax(outputs.logits, dim=1).tolist()\n",
        "\n",
        "# Compute confusion matrix\n",
        "conf_matrix = confusion_matrix(test_labels, predictions)\n",
        "\n",
        "# Visualize confusion matrix using seaborn\n",
        "classes = [f'Class {i}' for i in range(len(set(test_labels)))]\n",
        "plt.figure(figsize=(8, 6))\n",
        "sns.heatmap(conf_matrix, annot=True, fmt='g', cmap='Blues', xticklabels=set(test_labels), yticklabels=set(test_labels))\n",
        "plt.xlabel('Predicted')\n",
        "plt.ylabel('True')\n",
        "plt.title('Confusion Matrix')\n",
        "plt.show()\n",
        "\n",
        "# Print classification report for additional metrics\n",
        "print(\"Classification Report:\")\n",
        "print(classification_report(test_labels, predictions, target_names=classes))\n"
      ]
    },
    {
      "cell_type": "code",
      "execution_count": 15,
      "metadata": {},
      "outputs": [
        {
          "name": "stdout",
          "output_type": "stream",
          "text": [
            "Accuracy: 0.9725\n",
            "Macro Precision: 0.9728586086296779, Recall: 0.9723709807267134, F1: 0.9724788614456219\n",
            "Micro Precision: 0.9725, Recall: 0.9725, F1: 0.9725\n",
            "              precision    recall  f1-score   support\n",
            "\n",
            "           0       1.00      0.96      0.98       200\n",
            "           1       0.96      0.97      0.96       192\n",
            "           2       0.96      0.99      0.97       206\n",
            "           3       0.98      0.97      0.97       202\n",
            "\n",
            "    accuracy                           0.97       800\n",
            "   macro avg       0.97      0.97      0.97       800\n",
            "weighted avg       0.97      0.97      0.97       800\n",
            "\n"
          ]
        }
      ],
      "source": [
        "from sklearn.metrics import accuracy_score, precision_score, recall_score, f1_score, classification_report\n",
        "import numpy as np\n",
        "\n",
        "# Load test dataset (skip the header)\n",
        "with open(\"test_data.csv\", \"r\") as f:\n",
        "    # Skip the header if present\n",
        "    next(f)\n",
        "    \n",
        "    # Read the rest of the lines\n",
        "    texts = [line.strip() for line in f]\n",
        "\n",
        "# Instantiate tokenizer and DistilBERT model\n",
        "tokenizer = DistilBertTokenizer.from_pretrained(model_path)\n",
        "model = DistilBertForSequenceClassification.from_pretrained(model_path)\n",
        "model.eval()\n",
        "\n",
        "# Preprocess the data\n",
        "tokenized_inputs = tokenizer(texts, return_tensors=\"pt\", padding=True)\n",
        "\n",
        "# Generate predictions\n",
        "with torch.no_grad():  \n",
        "    outputs = model(**tokenized_inputs)\n",
        "predictions = torch.argmax(outputs.logits, dim=1).tolist()\n",
        "\n",
        "\n",
        "# Calculate metrics\n",
        "accuracy = accuracy_score(test_labels, predictions)\n",
        "precision_macro = precision_score(test_labels, predictions, average='macro')\n",
        "recall_macro = recall_score(test_labels, predictions, average='macro')\n",
        "f1_macro = f1_score(test_labels, predictions, average='macro')\n",
        "\n",
        "precision_micro = precision_score(test_labels, predictions, average='micro')\n",
        "recall_micro = recall_score(test_labels, predictions, average='micro')\n",
        "f1_micro = f1_score(test_labels, predictions, average='micro')\n",
        "\n",
        "# Print or store the metrics\n",
        "print(f\"Accuracy: {accuracy}\")\n",
        "print(f\"Macro Precision: {precision_macro}, Recall: {recall_macro}, F1: {f1_macro}\")\n",
        "print(f\"Micro Precision: {precision_micro}, Recall: {recall_micro}, F1: {f1_micro}\")\n",
        "\n",
        "# Print detailed classification report\n",
        "print(classification_report(test_labels, predictions))\n"
      ]
    },
    {
      "cell_type": "code",
      "execution_count": 16,
      "metadata": {},
      "outputs": [
        {
          "name": "stdout",
          "output_type": "stream",
          "text": [
            "Micro F1 Score: 0.9725\n",
            "Macro F1 Score: 0.9724788614456219\n",
            "Accuracy: 0.9725\n"
          ]
        }
      ],
      "source": [
        "from sklearn.metrics import f1_score, precision_score, recall_score, accuracy_score\n",
        "import numpy as np\n",
        "\n",
        "# Calculate micro and macro-averaged F1 score\n",
        "micro_f1 = f1_score(test_labels, predictions, average='micro')\n",
        "macro_f1 = f1_score(test_labels, predictions, average='macro')\n",
        "\n",
        "# Calculate accuracy for reference\n",
        "accuracy = accuracy_score(test_labels, predictions)\n",
        "\n",
        "# Print or use the metrics\n",
        "print(f\"Micro F1 Score: {micro_f1}\")\n",
        "print(f\"Macro F1 Score: {macro_f1}\")\n",
        "print(f\"Accuracy: {accuracy}\")\n"
      ]
    }
  ],
  "metadata": {
    "accelerator": "GPU",
    "colab": {
      "gpuType": "T4",
      "provenance": []
    },
    "kernelspec": {
      "display_name": "Python 3",
      "name": "python3"
    },
    "language_info": {
      "codemirror_mode": {
        "name": "ipython",
        "version": 3
      },
      "file_extension": ".py",
      "mimetype": "text/x-python",
      "name": "python",
      "nbconvert_exporter": "python",
      "pygments_lexer": "ipython3",
      "version": "3.8.18"
    }
  },
  "nbformat": 4,
  "nbformat_minor": 0
}
