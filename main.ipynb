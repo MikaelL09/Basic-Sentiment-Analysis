{
 "cells": [
  {
   "cell_type": "markdown",
   "metadata": {},
   "source": [
    "IMPORTING LIBRARIES"
   ]
  },
  {
   "cell_type": "code",
   "execution_count": 2,
   "metadata": {},
   "outputs": [
    {
     "name": "stderr",
     "output_type": "stream",
     "text": [
      "[nltk_data] Downloading package wordnet to C:\\Users\\ASUS TUF\n",
      "[nltk_data]     X506H\\AppData\\Roaming\\nltk_data...\n",
      "[nltk_data]   Package wordnet is already up-to-date!\n",
      "[nltk_data] Downloading package punkt to C:\\Users\\ASUS TUF\n",
      "[nltk_data]     X506H\\AppData\\Roaming\\nltk_data...\n",
      "[nltk_data]   Package punkt is already up-to-date!\n",
      "[nltk_data] Downloading package stopwords to C:\\Users\\ASUS TUF\n",
      "[nltk_data]     X506H\\AppData\\Roaming\\nltk_data...\n",
      "[nltk_data]   Package stopwords is already up-to-date!\n",
      "[nltk_data] Downloading package sentiwordnet to C:\\Users\\ASUS TUF\n",
      "[nltk_data]     X506H\\AppData\\Roaming\\nltk_data...\n",
      "[nltk_data]   Package sentiwordnet is already up-to-date!\n"
     ]
    },
    {
     "data": {
      "text/plain": [
       "True"
      ]
     },
     "execution_count": 2,
     "metadata": {},
     "output_type": "execute_result"
    }
   ],
   "source": [
    "import numpy as np\n",
    "import pandas as pd\n",
    "import torch\n",
    "import string\n",
    "import torchtext\n",
    "from torchtext.datasets import IMDB\n",
    "from torchtext.data.functional import to_map_style_dataset, sentencepiece_tokenizer\n",
    "from torch.utils.data import DataLoader, TensorDataset\n",
    "import nltk\n",
    "from nltk.corpus import wordnet, stopwords\n",
    "from sklearn.model_selection import train_test_split\n",
    "from sklearn.preprocessing import LabelEncoder\n",
    "from concurrent.futures import ProcessPoolExecutor\n",
    "from functools import partial\n",
    "import spacy\n",
    "from spacy.lang.en.stop_words import STOP_WORDS\n",
    "import re\n",
    "from gensim.models import Word2Vec\n",
    "from nltk.corpus import sentiwordnet as swn\n",
    "from torchtext.data.utils import get_tokenizer\n",
    "from torchtext.vocab import build_vocab_from_iterator\n",
    "\n",
    "nltk.download('wordnet')\n",
    "nltk.download('punkt')\n",
    "nltk.download('stopwords')\n",
    "nltk.download('sentiwordnet')"
   ]
  },
  {
   "cell_type": "markdown",
   "metadata": {},
   "source": [
    "LOADING DATASET"
   ]
  },
  {
   "cell_type": "code",
   "execution_count": 3,
   "metadata": {},
   "outputs": [
    {
     "data": {
      "text/plain": [
       "<Axes: xlabel='Sentiment_Labels'>"
      ]
     },
     "execution_count": 3,
     "metadata": {},
     "output_type": "execute_result"
    },
    {
     "data": {
      "image/png": "[encoded data removed]",
      "text/plain": [
       "<Figure size 640x480 with 1 Axes>"
      ]
     },
     "metadata": {},
     "output_type": "display_data"
    }
   ],
   "source": [
    "# Filter only English tweets\n",
    "# Convert all columns to string type\n",
    "# Drop all rows with any NaN and NaT values\n",
    "UnC_Data = pd.read_csv('./Dataset/Text/4/dataset.csv', low_memory=False).query('Language == \"en\"').astype(str).dropna()\n",
    "\n",
    "# Only keep the text and label columns\n",
    "UnC_Data = UnC_Data[['Text', 'Label']]\n",
    "\n",
    "# Rename the \"Label\" column as \"sentiment labels\"\n",
    "UnC_Data = UnC_Data.rename(columns={'Label': 'Sentiment_Labels'})\n",
    "\n",
    "# Visualize the distribution of the labels\n",
    "UnC_Data.groupby(['Sentiment_Labels']).size().plot.bar()"
   ]
  },
  {
   "cell_type": "markdown",
   "metadata": {},
   "source": [
    "DATA PREPROCESSING"
   ]
  },
  {
   "cell_type": "code",
   "execution_count": 4,
   "metadata": {},
   "outputs": [],
   "source": [
    "# Cleaning the dataset of unwanted characters and symbols and preprocessing the text\n",
    "\n",
    "# Pre-compiling regular expressions\n",
    "emoji_pattern = re.compile(\"[\"                    \n",
    "u\"\\U0001F600-\\U0001F64F\"                      \n",
    "u\"\\U0001F300-\\U0001F5FF\"\n",
    "u\"\\U0001F680-\\U0001F6FF\"\n",
    "u\"\\U0001F1E0-\\U0001F1FF\"\n",
    "u\"\\U00002702-\\U000027B0\"\n",
    "u\"\\U000024C2-\\U0001F251\"\n",
    "\"]+\", flags=re.UNICODE)\n",
    "\n",
    "stop_words = set(stopwords.words('english'))\n",
    "lemmatizer = nltk.WordNetLemmatizer()\n",
    "\n",
    "#Function to clean and preprocess the text (Removing emojis, unwanted characters, tokenizing, lemmatizing, and removing stop words.)\n",
    "def clean_and_preprocess(tweet):\n",
    "    if isinstance(tweet, float):\n",
    "        return \"\"\n",
    "\n",
    "    # Remove emojis and unwanted characters efficiently\n",
    "    temp = tweet.lower()\n",
    "    temp = emoji_pattern.sub(r'', temp)  # Remove emojis\n",
    "    temp = temp.translate(str.maketrans('', '', string.punctuation))  # Punctuation removal\n",
    "    temp = re.sub(r'http\\S+', '', temp)  # Remove URLs\n",
    "    temp = re.sub(r'\\s+', ' ', temp).strip()  # Remove extra spaces\n",
    "    temp = re.sub(\"'\", \"\", temp)\n",
    "    temp = re.sub(\"@[A-Za-z0-9_]+\",\"\", temp)\n",
    "    temp = re.sub(\"#\",\"\", temp)\n",
    "    temp = re.sub('[()!?]', ' ', temp)\n",
    "    temp = re.sub('\\[.*?\\]',' ', temp)\n",
    "    temp = re.sub(\"[^a-z0-9]\",\" \", temp)\n",
    "\n",
    "    # Tokenization and Lemmatization (NLTK library)\n",
    "    words = nltk.word_tokenize(temp)\n",
    "    lemmatized_words = [lemmatizer.lemmatize(word) for word in words if word not in stop_words]\n",
    "    return lemmatized_words\n",
    "\n",
    "# Rename the dataframe to C_Data (Clean Data) and apply the clean_and_preprocess function to the \"Text\" column)\n",
    "C_Data = UnC_Data.copy()\n",
    "C_Data['Text'] = C_Data['Text'].apply(clean_and_preprocess)"
   ]
  },
  {
   "cell_type": "code",
   "execution_count": 9,
   "metadata": {},
   "outputs": [],
   "source": [
    "# Assuming your labels are in a column called 'Sentiment_Labels'\n",
    "label_mapping = {'positive': 0, 'negative': 1, 'uncertainty': 2, 'litigious': 3}  # Adjust for your labels\n",
    "\n",
    "# Convert all labels to numerical values\n",
    "C_Data['Numerical_Labels'] = C_Data['Sentiment_Labels'].map(label_mapping)\n",
    "\n",
    "# Only keep the text and label columns\n",
    "C_Data = C_Data[['Text', 'Numerical_Labels']]\n"
   ]
  },
  {
   "cell_type": "code",
   "execution_count": 10,
   "metadata": {},
   "outputs": [
    {
     "data": {
      "text/html": [
       "<div>\n",
       "<style scoped>\n",
       "    .dataframe tbody tr th:only-of-type {\n",
       "        vertical-align: middle;\n",
       "    }\n",
       "\n",
       "    .dataframe tbody tr th {\n",
       "        vertical-align: top;\n",
       "    }\n",
       "\n",
       "    .dataframe thead th {\n",
       "        text-align: right;\n",
       "    }\n",
       "</style>\n",
       "<table border=\"1\" class=\"dataframe\">\n",
       "  <thead>\n",
       "    <tr style=\"text-align: right;\">\n",
       "      <th></th>\n",
       "      <th>Text</th>\n",
       "      <th>Numerical_Labels</th>\n",
       "    </tr>\n",
       "  </thead>\n",
       "  <tbody>\n",
       "    <tr>\n",
       "      <th>0</th>\n",
       "      <td>[charliecorley, kristine1g, amyklobuchar, styl...</td>\n",
       "      <td>3</td>\n",
       "    </tr>\n",
       "    <tr>\n",
       "      <th>2</th>\n",
       "      <td>[flagstar, bank, discloses, data, breach, impa...</td>\n",
       "      <td>3</td>\n",
       "    </tr>\n",
       "    <tr>\n",
       "      <th>3</th>\n",
       "      <td>[rwanda, set, host, headquarters, united, nati...</td>\n",
       "      <td>0</td>\n",
       "    </tr>\n",
       "    <tr>\n",
       "      <th>4</th>\n",
       "      <td>[oops, typed, name, incorrectly, today, brave,...</td>\n",
       "      <td>3</td>\n",
       "    </tr>\n",
       "    <tr>\n",
       "      <th>5</th>\n",
       "      <td>[suck, since, im, focused, nature, aspect, thi...</td>\n",
       "      <td>1</td>\n",
       "    </tr>\n",
       "  </tbody>\n",
       "</table>\n",
       "</div>"
      ],
      "text/plain": [
       "                                                Text  Numerical_Labels\n",
       "0  [charliecorley, kristine1g, amyklobuchar, styl...                 3\n",
       "2  [flagstar, bank, discloses, data, breach, impa...                 3\n",
       "3  [rwanda, set, host, headquarters, united, nati...                 0\n",
       "4  [oops, typed, name, incorrectly, today, brave,...                 3\n",
       "5  [suck, since, im, focused, nature, aspect, thi...                 1"
      ]
     },
     "execution_count": 10,
     "metadata": {},
     "output_type": "execute_result"
    }
   ],
   "source": [
    "C_Data.head()"
   ]
  },
  {
   "cell_type": "code",
   "execution_count": 11,
   "metadata": {},
   "outputs": [],
   "source": [
    "# Save the preprocessed dataset to a CSV file for easier access\n",
    "C_Data.to_csv('./Dataset/Text/4/C_Data.csv', index=False)"
   ]
  },
  {
   "cell_type": "code",
   "execution_count": 12,
   "metadata": {},
   "outputs": [],
   "source": [
    "# Flatten the list of lists into a single list\n",
    "all_words = [word for words in C_Data['Text'] for word in words]\n",
    "\n",
    "# Create Word2Vec model\n",
    "word2vec_model = Word2Vec(sentences=[all_words], vector_size=100, window=5, min_count=1, workers=4)\n",
    "\n",
    "# Save the Word2Vec model to a file\n",
    "word2vec_model.save(\"word2vec_model.model\")\n",
    "\n",
    "# Function to get sentiment score for a word from SentiWordNet\n",
    "def get_sentiment_score(word):\n",
    "    synsets = list(swn.senti_synsets(word))\n",
    "    if not synsets:\n",
    "        return 0.0\n",
    "    # Use the average of all found synsets\n",
    "    score = np.mean([synset.pos_score() - synset.neg_score() for synset in synsets])\n",
    "    return score\n",
    "\n",
    "# Combine Word2Vec embeddings with sentiment scores from SentiWordNet\n",
    "def get_word_embedding(word):\n",
    "    if word in word2vec_model.wv:\n",
    "        word_embedding = word2vec_model.wv[word]\n",
    "    else:\n",
    "        word_embedding = np.zeros(word2vec_model.vector_size)  # Use zero vector for out-of-vocabulary words\n",
    "    \n",
    "    sentiment_score = get_sentiment_score(word)\n",
    "    return np.concatenate([word_embedding, [sentiment_score]])\n",
    "\n",
    "# Create a dictionary of word embeddings\n",
    "word_embeddings = {word: get_word_embedding(word) for word in word2vec_model.wv.index_to_key}\n",
    "\n",
    "# Save the combined word embeddings to a file\n",
    "np.save(\"word_embeddings.npy\", word_embeddings)\n"
   ]
  },
  {
   "cell_type": "code",
   "execution_count": 14,
   "metadata": {},
   "outputs": [],
   "source": [
    "# Assume you have a column 'Sentiment_Labels' in C_Data that contains sentiment labels (positive/negative/neutral)\n",
    "labels = C_Data['Numerical_Labels']\n",
    "\n",
    "# Split the dataset into train, test, and validation sets\n",
    "train_data, test_data = train_test_split(C_Data, test_size=0.2, random_state=42)\n",
    "test_data, val_data = train_test_split(test_data, test_size=0.5, random_state=42)\n",
    "\n",
    "# Save the train, test, and validation datasets to CSV files\n",
    "train_data.to_csv(\"train_data.csv\", index=False)\n",
    "test_data.to_csv(\"test_data.csv\", index=False)\n",
    "val_data.to_csv(\"val_data.csv\", index=False)\n"
   ]
  },
  {
   "cell_type": "code",
   "execution_count": 15,
   "metadata": {},
   "outputs": [
    {
     "name": "stdout",
     "output_type": "stream",
     "text": [
      "Train data count: 697048\n",
      "Test data count: 87131\n",
      "Validation data count: 87131\n"
     ]
    }
   ],
   "source": [
    "# Check the count of each dataset\n",
    "print(\"Train data count:\", train_data.shape[0])\n",
    "print(\"Test data count:\", test_data.shape[0])\n",
    "print(\"Validation data count:\", val_data.shape[0])"
   ]
  },
  {
   "cell_type": "code",
   "execution_count": 18,
   "metadata": {},
   "outputs": [
    {
     "name": "stdout",
     "output_type": "stream",
     "text": [
      "927821    [inbox, lt100, get, easier, deeper, archaeolog...\n",
      "267208    [thanx4liquidity, course, would, miss, pattern...\n",
      "16544     [college, ready, launched, training, school, l...\n",
      "886932    [crediblecustos, lt, around, corner, next, par...\n",
      "72339     [deny, best, policy, organisation, policy, imp...\n",
      "                                ...                        \n",
      "278805    [legal, aid, rule, set, limit, fee, mean, soli...\n",
      "393726    [kamikazeth, tszzl, country, born, america, to...\n",
      "141951    [cherrypoolbitch, see, kinda, money, come, tim...\n",
      "722400    [good, question, autism, absorbed, gender, pol...\n",
      "131215    [survivorjon, nod, he, got, high, upside, remi...\n",
      "Name: Text, Length: 697048, dtype: object\n"
     ]
    }
   ],
   "source": [
    "print(train_data['Text'])"
   ]
  },
  {
   "cell_type": "code",
   "execution_count": 17,
   "metadata": {},
   "outputs": [
    {
     "ename": "TypeError",
     "evalue": "Argument 'string' has incorrect type (expected str, got list)",
     "output_type": "error",
     "traceback": [
      "\u001b[1;31m---------------------------------------------------------------------------\u001b[0m",
      "\u001b[1;31mTypeError\u001b[0m                                 Traceback (most recent call last)",
      "\u001b[1;32md:\\University Work\\GitHub\\FYP\\Sentiment-Analysis-To-Enhance-FanEngagement\\main.ipynb Cell 13\u001b[0m line \u001b[0;36m3\n\u001b[0;32m     <a href='vscode-notebook-cell:/d%3A/University%20Work/GitHub/FYP/Sentiment-Analysis-To-Enhance-FanEngagement/main.ipynb#X14sZmlsZQ%3D%3D?line=19'>20</a>\u001b[0m     vocab \u001b[39m=\u001b[39m build_vocab_from_iterator(tokens, specials\u001b[39m=\u001b[39m[\u001b[39m'\u001b[39m\u001b[39m<unk>\u001b[39m\u001b[39m'\u001b[39m])\n\u001b[0;32m     <a href='vscode-notebook-cell:/d%3A/University%20Work/GitHub/FYP/Sentiment-Analysis-To-Enhance-FanEngagement/main.ipynb#X14sZmlsZQ%3D%3D?line=21'>22</a>\u001b[0m     \u001b[39m# # Assuming your labels are in a column called 'Sentiment_Labels'\u001b[39;00m\n\u001b[0;32m     <a href='vscode-notebook-cell:/d%3A/University%20Work/GitHub/FYP/Sentiment-Analysis-To-Enhance-FanEngagement/main.ipynb#X14sZmlsZQ%3D%3D?line=22'>23</a>\u001b[0m     \u001b[39m# label_mapping = {'positive': 0, 'negative': 1, 'uncertainty': 2, 'litigious': 3}  # Adjust for your labels\u001b[39;00m\n\u001b[0;32m     <a href='vscode-notebook-cell:/d%3A/University%20Work/GitHub/FYP/Sentiment-Analysis-To-Enhance-FanEngagement/main.ipynb#X14sZmlsZQ%3D%3D?line=23'>24</a>\u001b[0m \n\u001b[1;32m   (...)\u001b[0m\n\u001b[0;32m     <a href='vscode-notebook-cell:/d%3A/University%20Work/GitHub/FYP/Sentiment-Analysis-To-Enhance-FanEngagement/main.ipynb#X14sZmlsZQ%3D%3D?line=26'>27</a>\u001b[0m \n\u001b[0;32m     <a href='vscode-notebook-cell:/d%3A/University%20Work/GitHub/FYP/Sentiment-Analysis-To-Enhance-FanEngagement/main.ipynb#X14sZmlsZQ%3D%3D?line=27'>28</a>\u001b[0m     \u001b[39m# Create tensors for text and labels\u001b[39;00m\n\u001b[0;32m     <a href='vscode-notebook-cell:/d%3A/University%20Work/GitHub/FYP/Sentiment-Analysis-To-Enhance-FanEngagement/main.ipynb#X14sZmlsZQ%3D%3D?line=28'>29</a>\u001b[0m     text_field \u001b[39m=\u001b[39m torch\u001b[39m.\u001b[39mtensor(\n\u001b[1;32m---> <a href='vscode-notebook-cell:/d%3A/University%20Work/GitHub/FYP/Sentiment-Analysis-To-Enhance-FanEngagement/main.ipynb#X14sZmlsZQ%3D%3D?line=29'>30</a>\u001b[0m         [\u001b[39mlist\u001b[39m(\u001b[39mmap\u001b[39m(vocab\u001b[39m.\u001b[39mget_stoi, tokenizer(text))) \u001b[39mfor\u001b[39;00m text \u001b[39min\u001b[39;00m train_data[\u001b[39m'\u001b[39m\u001b[39mText\u001b[39m\u001b[39m'\u001b[39m]],\n\u001b[0;32m     <a href='vscode-notebook-cell:/d%3A/University%20Work/GitHub/FYP/Sentiment-Analysis-To-Enhance-FanEngagement/main.ipynb#X14sZmlsZQ%3D%3D?line=30'>31</a>\u001b[0m         dtype\u001b[39m=\u001b[39mtorch\u001b[39m.\u001b[39mlong\n\u001b[0;32m     <a href='vscode-notebook-cell:/d%3A/University%20Work/GitHub/FYP/Sentiment-Analysis-To-Enhance-FanEngagement/main.ipynb#X14sZmlsZQ%3D%3D?line=31'>32</a>\u001b[0m     )\n\u001b[0;32m     <a href='vscode-notebook-cell:/d%3A/University%20Work/GitHub/FYP/Sentiment-Analysis-To-Enhance-FanEngagement/main.ipynb#X14sZmlsZQ%3D%3D?line=32'>33</a>\u001b[0m     label_field \u001b[39m=\u001b[39m torch\u001b[39m.\u001b[39mtensor(train_data[\u001b[39m'\u001b[39m\u001b[39mNumerical_Labels\u001b[39m\u001b[39m'\u001b[39m]\u001b[39m.\u001b[39mtolist(), dtype\u001b[39m=\u001b[39mtorch\u001b[39m.\u001b[39mlong)\n\u001b[0;32m     <a href='vscode-notebook-cell:/d%3A/University%20Work/GitHub/FYP/Sentiment-Analysis-To-Enhance-FanEngagement/main.ipynb#X14sZmlsZQ%3D%3D?line=33'>34</a>\u001b[0m \u001b[39melse\u001b[39;00m:\n",
      "\u001b[1;32md:\\University Work\\GitHub\\FYP\\Sentiment-Analysis-To-Enhance-FanEngagement\\main.ipynb Cell 13\u001b[0m line \u001b[0;36m3\n\u001b[0;32m     <a href='vscode-notebook-cell:/d%3A/University%20Work/GitHub/FYP/Sentiment-Analysis-To-Enhance-FanEngagement/main.ipynb#X14sZmlsZQ%3D%3D?line=19'>20</a>\u001b[0m     vocab \u001b[39m=\u001b[39m build_vocab_from_iterator(tokens, specials\u001b[39m=\u001b[39m[\u001b[39m'\u001b[39m\u001b[39m<unk>\u001b[39m\u001b[39m'\u001b[39m])\n\u001b[0;32m     <a href='vscode-notebook-cell:/d%3A/University%20Work/GitHub/FYP/Sentiment-Analysis-To-Enhance-FanEngagement/main.ipynb#X14sZmlsZQ%3D%3D?line=21'>22</a>\u001b[0m     \u001b[39m# # Assuming your labels are in a column called 'Sentiment_Labels'\u001b[39;00m\n\u001b[0;32m     <a href='vscode-notebook-cell:/d%3A/University%20Work/GitHub/FYP/Sentiment-Analysis-To-Enhance-FanEngagement/main.ipynb#X14sZmlsZQ%3D%3D?line=22'>23</a>\u001b[0m     \u001b[39m# label_mapping = {'positive': 0, 'negative': 1, 'uncertainty': 2, 'litigious': 3}  # Adjust for your labels\u001b[39;00m\n\u001b[0;32m     <a href='vscode-notebook-cell:/d%3A/University%20Work/GitHub/FYP/Sentiment-Analysis-To-Enhance-FanEngagement/main.ipynb#X14sZmlsZQ%3D%3D?line=23'>24</a>\u001b[0m \n\u001b[1;32m   (...)\u001b[0m\n\u001b[0;32m     <a href='vscode-notebook-cell:/d%3A/University%20Work/GitHub/FYP/Sentiment-Analysis-To-Enhance-FanEngagement/main.ipynb#X14sZmlsZQ%3D%3D?line=26'>27</a>\u001b[0m \n\u001b[0;32m     <a href='vscode-notebook-cell:/d%3A/University%20Work/GitHub/FYP/Sentiment-Analysis-To-Enhance-FanEngagement/main.ipynb#X14sZmlsZQ%3D%3D?line=27'>28</a>\u001b[0m     \u001b[39m# Create tensors for text and labels\u001b[39;00m\n\u001b[0;32m     <a href='vscode-notebook-cell:/d%3A/University%20Work/GitHub/FYP/Sentiment-Analysis-To-Enhance-FanEngagement/main.ipynb#X14sZmlsZQ%3D%3D?line=28'>29</a>\u001b[0m     text_field \u001b[39m=\u001b[39m torch\u001b[39m.\u001b[39mtensor(\n\u001b[1;32m---> <a href='vscode-notebook-cell:/d%3A/University%20Work/GitHub/FYP/Sentiment-Analysis-To-Enhance-FanEngagement/main.ipynb#X14sZmlsZQ%3D%3D?line=29'>30</a>\u001b[0m         [\u001b[39mlist\u001b[39m(\u001b[39mmap\u001b[39m(vocab\u001b[39m.\u001b[39mget_stoi, tokenizer(text))) \u001b[39mfor\u001b[39;00m text \u001b[39min\u001b[39;00m train_data[\u001b[39m'\u001b[39m\u001b[39mText\u001b[39m\u001b[39m'\u001b[39m]],\n\u001b[0;32m     <a href='vscode-notebook-cell:/d%3A/University%20Work/GitHub/FYP/Sentiment-Analysis-To-Enhance-FanEngagement/main.ipynb#X14sZmlsZQ%3D%3D?line=30'>31</a>\u001b[0m         dtype\u001b[39m=\u001b[39mtorch\u001b[39m.\u001b[39mlong\n\u001b[0;32m     <a href='vscode-notebook-cell:/d%3A/University%20Work/GitHub/FYP/Sentiment-Analysis-To-Enhance-FanEngagement/main.ipynb#X14sZmlsZQ%3D%3D?line=31'>32</a>\u001b[0m     )\n\u001b[0;32m     <a href='vscode-notebook-cell:/d%3A/University%20Work/GitHub/FYP/Sentiment-Analysis-To-Enhance-FanEngagement/main.ipynb#X14sZmlsZQ%3D%3D?line=32'>33</a>\u001b[0m     label_field \u001b[39m=\u001b[39m torch\u001b[39m.\u001b[39mtensor(train_data[\u001b[39m'\u001b[39m\u001b[39mNumerical_Labels\u001b[39m\u001b[39m'\u001b[39m]\u001b[39m.\u001b[39mtolist(), dtype\u001b[39m=\u001b[39mtorch\u001b[39m.\u001b[39mlong)\n\u001b[0;32m     <a href='vscode-notebook-cell:/d%3A/University%20Work/GitHub/FYP/Sentiment-Analysis-To-Enhance-FanEngagement/main.ipynb#X14sZmlsZQ%3D%3D?line=33'>34</a>\u001b[0m \u001b[39melse\u001b[39;00m:\n",
      "File \u001b[1;32m~\\AppData\\Local\\Packages\\PythonSoftwareFoundation.Python.3.8_qbz5n2kfra8p0\\LocalCache\\local-packages\\Python38\\site-packages\\torchtext\\data\\utils.py:14\u001b[0m, in \u001b[0;36m_spacy_tokenize\u001b[1;34m(x, spacy)\u001b[0m\n\u001b[0;32m     13\u001b[0m \u001b[39mdef\u001b[39;00m \u001b[39m_spacy_tokenize\u001b[39m(x, spacy):\n\u001b[1;32m---> 14\u001b[0m     \u001b[39mreturn\u001b[39;00m [tok\u001b[39m.\u001b[39mtext \u001b[39mfor\u001b[39;00m tok \u001b[39min\u001b[39;00m spacy\u001b[39m.\u001b[39;49mtokenizer(x)]\n",
      "\u001b[1;31mTypeError\u001b[0m: Argument 'string' has incorrect type (expected str, got list)"
     ]
    }
   ],
   "source": [
    "\n",
    "if len(train_data) > 0:\n",
    "    tokenizer = get_tokenizer('spacy')\n",
    "\n",
    "    def yield_tokens(data_iter):\n",
    "        for text_list in data_iter:\n",
    "            if isinstance(text_list, list):\n",
    "                # If 'Text' is a list of tokens, join them into a string\n",
    "                text = ' '.join(text_list)\n",
    "            else:\n",
    "                # If 'Text' is already a string, use it as is\n",
    "                text = text_list\n",
    "\n",
    "            yield tokenizer(text)\n",
    "\n",
    "    # Tokenize each text instance in the training dataset\n",
    "    tokens = yield_tokens(train_data['Text'])\n",
    "\n",
    "    # Build vocabulary from the tokenized text\n",
    "    vocab = build_vocab_from_iterator(tokens, specials=['<unk>'])\n",
    "\n",
    "    # # Assuming your labels are in a column called 'Sentiment_Labels'\n",
    "    # label_mapping = {'positive': 0, 'negative': 1, 'uncertainty': 2, 'litigious': 3}  # Adjust for your labels\n",
    "\n",
    "    # # Convert all labels to numerical values\n",
    "    # train_data['Numerical_Labels'] = train_data['Sentiment_Labels'].map(label_mapping)\n",
    "\n",
    "    # Create tensors for text and labels\n",
    "    text_field = torch.tensor(\n",
    "        [list(map(vocab.get_stoi, tokenizer(text))) for text in train_data['Text']],\n",
    "        dtype=torch.long\n",
    "    )\n",
    "    label_field = torch.tensor(train_data['Numerical_Labels'].tolist(), dtype=torch.long)\n",
    "else:\n",
    "    print(\"Empty train_data DataFrame.\")\n",
    "\n",
    "\n",
    "\n"
   ]
  }
 ],
 "metadata": {
  "kernelspec": {
   "display_name": "Python 3",
   "language": "python",
   "name": "python3"
  },
  "language_info": {
   "codemirror_mode": {
    "name": "ipython",
    "version": 3
   },
   "file_extension": ".py",
   "mimetype": "text/x-python",
   "name": "python",
   "nbconvert_exporter": "python",
   "pygments_lexer": "ipython3",
   "version": "3.8.10"
  }
 },
 "nbformat": 4,
 "nbformat_minor": 2
}
